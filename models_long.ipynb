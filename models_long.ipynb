{
 "cells": [
  {
   "cell_type": "code",
   "execution_count": 1,
   "metadata": {},
   "outputs": [],
   "source": [
    "import torch\n",
    "import torch.nn as  nn\n",
    "from models.involution import * \n",
    "from models.unet import * \n",
    "from models.unet_long import *"
   ]
  },
  {
   "cell_type": "code",
   "execution_count": 2,
   "metadata": {},
   "outputs": [
    {
     "name": "stdout",
     "output_type": "stream",
     "text": [
      "Encoder\n",
      "torch.Size([1, 32, 256, 256])\n",
      "Involution Block: torch.Size([1, 32, 256, 256])\n",
      "Downsample: torch.Size([1, 64, 129, 129])\n",
      "Involution Block: torch.Size([1, 64, 129, 129])\n",
      "Downsample: torch.Size([1, 128, 66, 66])\n",
      "Involution Block: torch.Size([1, 128, 66, 66])\n",
      "Downsample: torch.Size([1, 256, 34, 34])\n",
      "Involution Block: torch.Size([1, 256, 34, 34])\n",
      "After Bottleneck:  torch.Size([1, 512, 34, 34])\n",
      "Decoder\n",
      "Upsample:  torch.Size([1, 256, 68, 68])\n",
      "Involution Block:  torch.Size([1, 256, 34, 34])\n",
      "Upsample:  torch.Size([1, 128, 68, 68])\n",
      "Involution Block:  torch.Size([1, 128, 66, 66])\n",
      "Upsample:  torch.Size([1, 64, 132, 132])\n",
      "Involution Block:  torch.Size([1, 64, 129, 129])\n",
      "Upsample:  torch.Size([1, 32, 258, 258])\n",
      "Involution Block:  torch.Size([1, 32, 256, 256])\n"
     ]
    },
    {
     "data": {
      "text/plain": [
       "torch.Size([1, 3, 256, 256])"
      ]
     },
     "execution_count": 2,
     "metadata": {},
     "output_type": "execute_result"
    }
   ],
   "source": [
    "device = torch.device(\"cuda\" if torch.cuda.is_available() else \"cpu\")\n",
    "unet_long = UNET_Long(in_channels = 3, out_channels = 3,\n",
    "                      features = [32, 64, 128, 256], device = device)\n",
    "\n",
    "unet_long.to(device)\n",
    "\n",
    "# print(unet_long)\n",
    "x = torch.randn(1, 3, 256, 256).to(device)\n",
    "unet_long(x).shape"
   ]
  },
  {
   "cell_type": "code",
   "execution_count": 8,
   "metadata": {},
   "outputs": [
    {
     "data": {
      "text/plain": [
       "torch.Size([2, 3, 4])"
      ]
     },
     "execution_count": 8,
     "metadata": {},
     "output_type": "execute_result"
    }
   ],
   "source": [
    "import torch\n",
    "import torch.nn.functional as F\n",
    "\n",
    "x = torch.randn(2, 3, 4)\n",
    "normalized_x = F.normalize(x, dim=1)\n",
    "normalized_x.shape"
   ]
  },
  {
   "cell_type": "code",
   "execution_count": 9,
   "metadata": {},
   "outputs": [
    {
     "data": {
      "text/plain": [
       "torch.Size([2, 3])"
      ]
     },
     "execution_count": 9,
     "metadata": {},
     "output_type": "execute_result"
    }
   ],
   "source": [
    "norms = x.norm(2, dim=-1)\n",
    "norms.shape"
   ]
  },
  {
   "cell_type": "markdown",
   "metadata": {},
   "source": [
    "### LayerNorm"
   ]
  },
  {
   "cell_type": "code",
   "execution_count": 13,
   "metadata": {},
   "outputs": [
    {
     "data": {
      "text/plain": [
       "torch.Size([2, 1, 1, 4])"
      ]
     },
     "execution_count": 13,
     "metadata": {},
     "output_type": "execute_result"
    }
   ],
   "source": [
    "a = torch.tensor([[1, 2, 3, 4],\n",
    "                  [4, 5, 6, 7]], dtype = torch.float32)\n",
    "\n",
    "a[:, None, None].shape"
   ]
  },
  {
   "cell_type": "code",
   "execution_count": 14,
   "metadata": {},
   "outputs": [],
   "source": [
    "class LayerNorm(nn.Module):\n",
    "    \"\"\" LayerNorm that supports two data formats: channels_last (default) or channels_first. \n",
    "    The ordering of the dimensions in the inputs. channels_last corresponds to inputs with \n",
    "    shape (batch_size, height, width, channels) while channels_first corresponds to inputs \n",
    "    with shape (batch_size, channels, height, width).\n",
    "    \"\"\"\n",
    "    def __init__(self, normalized_shape, eps = 1e-6, data_format = \"channels_last\"):\n",
    "        super().__init__()\n",
    "\n",
    "        self.weight = nn.Parameter(torch.ones(normalized_shape))\n",
    "        self.bias = nn.Parameter(torch.zeros(normalized_shape))\n",
    "        self.eps = eps\n",
    "        self.data_format = data_format\n",
    "\n",
    "        if self.data_format not in [\"channels_last\", \"channels_first\"]:\n",
    "            raise NotImplementedError\n",
    "\n",
    "        self.normalized_shape = (normalized_shape, )\n",
    "\n",
    "\n",
    "    def forward(self, x):\n",
    "\n",
    "        if self.data_format == \"channels_last\":\n",
    "            return F.layer_norm(x, self.normalized_shape, self.weight, \n",
    "                                self.bias, self.eps)\n",
    "        elif self.data_format == \"channels_first\":\n",
    "            u = x.mean(1, keepdim = True)\n",
    "            s = (x - u).pow(2).mean(1, keepdim = True)\n",
    "            x = (x - u) / torch.sqrt(s + self.eps)\n",
    "\n",
    "            x = self.weight[:, None, None] * x + self.bias[:, None, None]\n",
    "\n",
    "            return x"
   ]
  },
  {
   "cell_type": "code",
   "execution_count": null,
   "metadata": {},
   "outputs": [],
   "source": [
    "x = torch.randn(1, 3, 4, 4)\n",
    "\n",
    "layernorm = layernorm"
   ]
  }
 ],
 "metadata": {
  "kernelspec": {
   "display_name": "base",
   "language": "python",
   "name": "python3"
  },
  "language_info": {
   "codemirror_mode": {
    "name": "ipython",
    "version": 3
   },
   "file_extension": ".py",
   "mimetype": "text/x-python",
   "name": "python",
   "nbconvert_exporter": "python",
   "pygments_lexer": "ipython3",
   "version": "3.9.19"
  }
 },
 "nbformat": 4,
 "nbformat_minor": 2
}
