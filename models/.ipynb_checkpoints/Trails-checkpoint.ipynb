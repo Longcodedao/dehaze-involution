{
 "cells": [
  {
   "cell_type": "code",
   "execution_count": 2,
   "id": "7fceb970-b9fa-41b1-8969-fe15e4f0bbf3",
   "metadata": {},
   "outputs": [],
   "source": [
    "import math\n",
    "import numpy as np\n",
    "import torch \n",
    "import torch.nn as nn\n",
    "from torch.utils.data import Dataset, DataLoader\n",
    "from skimage.metrics import structural_similarity as ssim\n",
    "\n",
    "from PIL import Image\n",
    "import glob\n",
    "\n",
    "import matplotlib.pyplot as plt"
   ]
  },
  {
   "cell_type": "code",
   "execution_count": 5,
   "id": "34bf688d-cff2-4061-8570-751f72a4acfa",
   "metadata": {},
   "outputs": [],
   "source": [
    "import os \n",
    "from torch.utils.data import Dataset\n",
    "import torchvision.transforms as transforms"
   ]
  },
  {
   "cell_type": "code",
   "execution_count": 14,
   "id": "31f2c2f1-1a49-4c49-9373-af52360b645c",
   "metadata": {},
   "outputs": [],
   "source": [
    "class FoggyCityscape(Dataset):\n",
    "    def __init__(self, data_dir, transform = None):\n",
    "        self.data_dir = data_dir\n",
    "        self.transform = transform\n",
    "        self.haze_dir = os.path.join(data_dir, \"hazy\")\n",
    "        self.clean_dir = os.path.join(data_dir, \"clean\")\n",
    "\n",
    "        # Sort for consistency\n",
    "        self.haze_images = sorted(os.listdir(self.haze_dir))  \n",
    "        self.clean_images = sorted(os.listdir(self.clean_dir))  \n",
    "\n",
    "        # Error handling if number of haze and clear images don't match\n",
    "        if len(self.haze_images) != len(self.clean_images):\n",
    "            raise ValueError(\"Number of haze images does not match number of clear images.\")\n",
    "\n",
    "    def __len__(self):\n",
    "        return len(self.haze_images)\n",
    "\n",
    "    def __getitem__(self, idx):\n",
    "        haze_image_name = self.haze_images[idx]\n",
    "        clean_image_name = self.clean_images[idx]\n",
    "        haze_image_path = os.path.join(self.haze_dir, haze_image_name)\n",
    "        clean_image_path = os.path.join(self.clean_dir, clean_image_name)\n",
    "\n",
    "        haze_image = Image.open(haze_image_path)\n",
    "        clean_image = Image.open(clean_image_path)\n",
    "\n",
    "        if self.transform:\n",
    "            haze_image = self.transform(haze_image)\n",
    "            clean_image = self.transform(clean_image)\n",
    "            \n",
    "        return haze_image, clean_image"
   ]
  },
  {
   "cell_type": "code",
   "execution_count": 15,
   "id": "26203586-f5b9-44b8-85b3-4db52271091d",
   "metadata": {},
   "outputs": [
    {
     "data": {
      "text/plain": [
       "'/root/dehaze-involution/models'"
      ]
     },
     "execution_count": 15,
     "metadata": {},
     "output_type": "execute_result"
    }
   ],
   "source": [
    "os.getcwd()"
   ]
  },
  {
   "cell_type": "code",
   "execution_count": 16,
   "id": "a0129f69-9e61-435d-bc90-1fbdccbff592",
   "metadata": {},
   "outputs": [],
   "source": [
    "# Define transformation (if any)\n",
    "transform = transforms.Compose([\n",
    "    transforms.Resize((256, 256)),\n",
    "    transforms.ToTensor(),\n",
    "])\n",
    "data_dir = \"../dataset/foggy_cityscape/train\"\n",
    "dataset = FoggyCityscape(data_dir, transform)"
   ]
  },
  {
   "cell_type": "code",
   "execution_count": 17,
   "id": "e9c67d31-e0c5-48d9-8208-3df2a6518859",
   "metadata": {},
   "outputs": [
    {
     "ename": "UnboundLocalError",
     "evalue": "local variable 'clean_image_path' referenced before assignment",
     "output_type": "error",
     "traceback": [
      "\u001b[0;31m---------------------------------------------------------------------------\u001b[0m",
      "\u001b[0;31mUnboundLocalError\u001b[0m                         Traceback (most recent call last)",
      "Cell \u001b[0;32mIn[17], line 3\u001b[0m\n\u001b[1;32m      1\u001b[0m \u001b[38;5;66;03m# Access an item from the dataset\u001b[39;00m\n\u001b[1;32m      2\u001b[0m index \u001b[38;5;241m=\u001b[39m \u001b[38;5;241m0\u001b[39m  \u001b[38;5;66;03m# Change this to test different images\u001b[39;00m\n\u001b[0;32m----> 3\u001b[0m haze_image, clear_image\u001b[38;5;241m=\u001b[39m \u001b[43mdataset\u001b[49m\u001b[43m[\u001b[49m\u001b[43mindex\u001b[49m\u001b[43m]\u001b[49m\n\u001b[1;32m      5\u001b[0m \u001b[38;5;66;03m# Visualize the images\u001b[39;00m\n\u001b[1;32m      6\u001b[0m plt\u001b[38;5;241m.\u001b[39mfigure(figsize\u001b[38;5;241m=\u001b[39m(\u001b[38;5;241m10\u001b[39m, \u001b[38;5;241m5\u001b[39m))\n",
      "Cell \u001b[0;32mIn[14], line 23\u001b[0m, in \u001b[0;36mFoggyCityscape.__getitem__\u001b[0;34m(self, idx)\u001b[0m\n\u001b[1;32m     21\u001b[0m clean_image_name \u001b[38;5;241m=\u001b[39m \u001b[38;5;28mself\u001b[39m\u001b[38;5;241m.\u001b[39mclean_images[idx]\n\u001b[1;32m     22\u001b[0m haze_image_path \u001b[38;5;241m=\u001b[39m os\u001b[38;5;241m.\u001b[39mpath\u001b[38;5;241m.\u001b[39mjoin(\u001b[38;5;28mself\u001b[39m\u001b[38;5;241m.\u001b[39mhaze_dir, haze_image_name)\n\u001b[0;32m---> 23\u001b[0m clean_image_path \u001b[38;5;241m=\u001b[39m os\u001b[38;5;241m.\u001b[39mpath\u001b[38;5;241m.\u001b[39mjoin(\u001b[38;5;28mself\u001b[39m\u001b[38;5;241m.\u001b[39mclean_dir, \u001b[43mclean_image_path\u001b[49m)\n\u001b[1;32m     25\u001b[0m haze_image \u001b[38;5;241m=\u001b[39m Image\u001b[38;5;241m.\u001b[39mopen(haze_image_path)\n\u001b[1;32m     26\u001b[0m clean_image \u001b[38;5;241m=\u001b[39m Image\u001b[38;5;241m.\u001b[39mopen(clean_image_path)\n",
      "\u001b[0;31mUnboundLocalError\u001b[0m: local variable 'clean_image_path' referenced before assignment"
     ]
    }
   ],
   "source": [
    "# Access an item from the dataset\n",
    "index = 0  # Change this to test different images\n",
    "haze_image, clear_image= dataset[index]\n",
    "\n",
    "# Visualize the images\n",
    "plt.figure(figsize=(10, 5))\n",
    "plt.subplot(1, 2, 1)\n",
    "plt.imshow(haze_image.permute(1, 2, 0))  # Permute dimensions for visualization\n",
    "plt.title(\"Haze Image\")\n",
    "plt.axis(\"off\")\n",
    "\n",
    "plt.subplot(1, 2, 2)\n",
    "plt.imshow(clear_image.permute(1, 2, 0))  # Permute dimensions for visualization\n",
    "plt.title(\"Clear Image\")\n",
    "plt.axis(\"off\")\n",
    "\n",
    "plt.show()\n",
    "\n",
    "# Optionally, print image paths\n",
    "print(\"Haze Image Path:\")\n",
    "print(\"Clear Image Path:\")\n"
   ]
  },
  {
   "cell_type": "code",
   "execution_count": null,
   "id": "c67e7091-2cc1-4718-b074-c2632e8701a3",
   "metadata": {},
   "outputs": [],
   "source": []
  }
 ],
 "metadata": {
  "kernelspec": {
   "display_name": "Python 3 (ipykernel)",
   "language": "python",
   "name": "python3"
  },
  "language_info": {
   "codemirror_mode": {
    "name": "ipython",
    "version": 3
   },
   "file_extension": ".py",
   "mimetype": "text/x-python",
   "name": "python",
   "nbconvert_exporter": "python",
   "pygments_lexer": "ipython3",
   "version": "3.10.11"
  }
 },
 "nbformat": 4,
 "nbformat_minor": 5
}
